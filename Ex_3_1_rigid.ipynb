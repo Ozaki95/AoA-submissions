{
  "nbformat": 4,
  "nbformat_minor": 0,
  "metadata": {
    "colab": {
      "provenance": [],
      "toc_visible": true
    },
    "kernelspec": {
      "name": "python3",
      "display_name": "Python 3"
    },
    "language_info": {
      "name": "python"
    }
  },
  "cells": [
    {
      "cell_type": "code",
      "execution_count": null,
      "metadata": {
        "colab": {
          "base_uri": "https://localhost:8080/"
        },
        "id": "EC3UOo3b9kIM",
        "outputId": "99f56de1-dc82-4667-9a01-8e29bee672fc"
      },
      "outputs": [
        {
          "output_type": "stream",
          "name": "stdout",
          "text": [
            "\n",
            "\n",
            "Ex 1\n",
            "\n",
            "Gamma\t1.2038288288288288 \n",
            "Radius\t89.38141604040842 m \n",
            "Beta\t0.5567458584359817 \n",
            "\n",
            "Rigidity\t17.725397151134672 T m \n",
            "Energy loss\t1.9149117874426525e-08 eV \n",
            "Angle\t\t47.59462320637708 °\n",
            "\n",
            "\n",
            "Ex 2\n",
            "\n",
            "Gamma\t1.3942542787286063 \n",
            "Radius\t89.38141604040842 m \n",
            "Beta\t0.6968372494083322 \n",
            "\n",
            "Rigidity\t8.607067878781017 T m \n",
            "Energy loss\t5.109121543861313e-07 eV \n",
            "Angle\t\t41.094210996669304 °\n",
            "\n",
            "\n",
            "Ex 3\n",
            "\n",
            "Gamma\t19546.565599804544 \n",
            "Radius\t89.38141604040842 m \n",
            "Beta\t0.9999999986913332 \n",
            "\n",
            "Rigidity\t33.35811607346261 T m \n",
            "Energy loss\t9837496.949738154 eV \n",
            "Angle\t\t0.0029312453494978806 °\n"
          ]
        }
      ],
      "source": [
        "import math as m\n",
        "\n",
        "c = 299792458 # m/s^2   Speed of light\n",
        "q = 1.6E-19 #           Coulomb\n",
        "e0 = 8.85418782E-12 #   Permitivity of free space \n",
        "CR = 561.6 # m           Circumference\n",
        "\n",
        "\n",
        "class T:\n",
        "  \n",
        "  def __init__(self,E0,T,Z):\n",
        "\n",
        "    self.E0=E0 #* (1.6E-13) # Rest enegy \n",
        "    self.T=T #  * (1.6E-13) #   Kinetic Energy\n",
        "    self.Z=Z #   Charge\n",
        "\n",
        "  def GetRigid(self): # Change qt if needed\n",
        "\n",
        "    G = (self.T/self.E0)+1 # Gama\n",
        "    r = ( CR /(2 * m.pi)) \n",
        "    B = m.sqrt( 1 - (1/ G**2 ) ) # Beta\n",
        "    EL = (((q*self.Z)**2 * B**3 * G**4) / (3 * e0 * r))/q # Energy loss\n",
        "    Rg = ((m.sqrt( (self.T+self.E0)**2 - self.E0**2)) / (c * q * self.Z)) \n",
        "    Teta = (180) / (G * m.pi)\n",
        "    #RJ = (m.sqrt( (T**2)) / c * q * 28)\n",
        "\n",
        "    print(f'\\nGamma\\t{G} \\nRadius\\t{r} m \\nBeta\\t{B} \\n\\nRigidity\\t{Rg} T m \\nEnergy loss\\t{EL} eV \\nAngle\\t\\t{Teta} °')\n",
        "\n",
        "# put the values as an array of [E0,T,Z]\n",
        "Ex1 = T(3.552E-8, 7.24E-9, 28)\n",
        "print(\"\\n\\nEx 1\")\n",
        "Ex1.GetRigid()\n",
        "\n",
        "\n",
        "Ex2 = T(3.272E-8, 1.29E-8, 77)\n",
        "print(\"\\n\\nEx 2\")\n",
        "Ex2.GetRigid()\n",
        "\n",
        "Ex3 = T(8.186E-14, 1.6E-9, 1)\n",
        "print(\"\\n\\nEx 3\")\n",
        "Ex3.GetRigid()"
      ]
    }
  ]
}