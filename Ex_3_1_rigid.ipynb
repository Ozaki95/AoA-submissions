{
  "nbformat": 4,
  "nbformat_minor": 0,
  "metadata": {
    "colab": {
      "provenance": []
    },
    "kernelspec": {
      "name": "python3",
      "display_name": "Python 3"
    },
    "language_info": {
      "name": "python"
    }
  },
  "cells": [
    {
      "cell_type": "code",
      "execution_count": 3,
      "metadata": {
        "colab": {
          "base_uri": "https://localhost:8080/"
        },
        "id": "ln9sN7W664_V",
        "outputId": "df8b79a4-66a4-491c-bb37-96694227330e"
      },
      "outputs": [
        {
          "output_type": "stream",
          "name": "stdout",
          "text": [
            "\n",
            "\n",
            "Ex 1\n",
            "\n",
            "Gama\t1.2038288288288288\n",
            "P\t89.38141604040842 m \n",
            "Beta\t0.5567458584359817\n",
            "\n",
            "Rijidity\t17.725397151134672 Tm (Tesla meter) \n",
            "Energy loss\t1.9149117874426525e-08 eV \n",
            "Teta\t\t47.59462320637708\n",
            "\n",
            "\n",
            "Ex 2\n",
            "\n",
            "Gama\t1.3942542787286063\n",
            "P\t89.38141604040842 m \n",
            "Beta\t0.6968372494083322\n",
            "\n",
            "Rijidity\t8.607067878781017 Tm (Tesla meter) \n",
            "Energy loss\t5.109121543861313e-07 eV \n",
            "Teta\t\t41.094210996669304\n",
            "\n",
            "\n",
            "Ex 3\n",
            "\n",
            "Gama\t19546.565599804544\n",
            "P\t89.38141604040842 m \n",
            "Beta\t0.9999999986913332\n",
            "\n",
            "Rijidity\t-33.35811607346261 Tm (Tesla meter) \n",
            "Energy loss\t9837496.949738154 eV \n",
            "Teta\t\t0.0029312453494978806\n"
          ]
        }
      ],
      "source": [
        "import math as m\n",
        "\n",
        "c = 299792458 # m/s^2   Speed of light\n",
        "q = 1.6E-19 #           Coulomb\n",
        "e0 = 8.85418782E-12 #   Permitivity of free space \n",
        "CR = 561.6 # m           Circumference\n",
        "\n",
        "\n",
        "class T:\n",
        "  \n",
        "  def __init__(self,E0,T,Z):\n",
        "\n",
        "    self.E0=E0 #* (1.6E-13) # Rest enegy \n",
        "    self.T=T #  * (1.6E-13) #   Kinetic Energy\n",
        "    self.Z=Z #   Charge\n",
        "\n",
        "  def qt(self): # Change qt if needed\n",
        "\n",
        "    G = (self.T/self.E0)+1 # Gama\n",
        "    P = ( CR /(2 * m.pi)) \n",
        "    B = m.sqrt( 1 - (1/ G**2 ) ) # Beta\n",
        "    EL = (((q*self.Z)**2 * B**3 * G**4) / (3 * e0 * P))/q # Energy loss\n",
        "    RJ = ((m.sqrt( (self.T+self.E0)**2 - self.E0**2)) / (c * q * self.Z)) # * (1.6E-13)\n",
        "    Teta = (180) / (G * m.pi)\n",
        "    #RJ = (m.sqrt( (T**2)) / c * q * 28)\n",
        "\n",
        "    print(f'\\nGama\\t{G}\\nP\\t{P} m \\nBeta\\t{B}\\n\\nRijidity\\t{RJ} Tm (Tesla meter) \\nEnergy loss\\t{EL} eV \\nTeta\\t\\t{Teta}')\n",
        "\n",
        "# put the values as an array of [E0,T,Z]\n",
        "K = T(3.552E-8, 7.24E-9, 28)\n",
        "print(\"\\n\\nEx 1\")\n",
        "K.qt()\n",
        "\n",
        "\n",
        "K2 = T(3.272E-8, 1.29E-8, 77)\n",
        "print(\"\\n\\nEx 2\")\n",
        "K2.qt()\n",
        "\n",
        "K3 = T(8.186E-14, 1.6E-9, -1)\n",
        "print(\"\\n\\nEx 3\")\n",
        "K3.qt()\n"
      ]
    }
  ]
}